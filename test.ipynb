{
 "cells": [
  {
   "cell_type": "code",
   "execution_count": 2,
   "metadata": {},
   "outputs": [
    {
     "name": "stdout",
     "output_type": "stream",
     "text": [
      "Requirement already satisfied: requests in /usr/local/lib/python3.10/site-packages (2.28.1)\n",
      "Requirement already satisfied: certifi>=2017.4.17 in /usr/local/lib/python3.10/site-packages (from requests) (2022.9.24)\n",
      "Requirement already satisfied: charset-normalizer<3,>=2 in /usr/local/lib/python3.10/site-packages (from requests) (2.1.1)\n",
      "Requirement already satisfied: urllib3<1.27,>=1.21.1 in /usr/local/lib/python3.10/site-packages (from requests) (1.26.12)\n",
      "Requirement already satisfied: idna<4,>=2.5 in /usr/local/lib/python3.10/site-packages (from requests) (3.4)\n",
      "\n",
      "\u001b[1m[\u001b[0m\u001b[34;49mnotice\u001b[0m\u001b[1;39;49m]\u001b[0m\u001b[39;49m A new release of pip available: \u001b[0m\u001b[31;49m22.2.2\u001b[0m\u001b[39;49m -> \u001b[0m\u001b[32;49m22.3.1\u001b[0m\n",
      "\u001b[1m[\u001b[0m\u001b[34;49mnotice\u001b[0m\u001b[1;39;49m]\u001b[0m\u001b[39;49m To update, run: \u001b[0m\u001b[32;49mpython3.10 -m pip install --upgrade pip\u001b[0m\n"
     ]
    }
   ],
   "source": [
    "! pip3 install requests"
   ]
  },
  {
   "cell_type": "code",
   "execution_count": 4,
   "metadata": {},
   "outputs": [
    {
     "name": "stdout",
     "output_type": "stream",
     "text": [
      "<Response [200]>\n"
     ]
    }
   ],
   "source": [
    "import requests\n",
    "\n",
    "url = 'https://www.churchofjesuschrist.org/?lang=eng'\n",
    "\n",
    "response = requests.get(url)\n",
    "\n",
    "print(response)"
   ]
  },
  {
   "cell_type": "code",
   "execution_count": 17,
   "metadata": {},
   "outputs": [
    {
     "name": "stdout",
     "output_type": "stream",
     "text": [
      "1: 1Nephi, 2: 2Nephi, 3:Jacob, 4:Enos, 5: Omni, 6:words of Mormon, 7:Mosiah, 8:Alma, 9:Helaman, 10:3Nephi, 11:4Nephi, 12: Mormon. 13:Ether, 14:Moroni\n",
      "success\n"
     ]
    }
   ],
   "source": [
    "print(\"1: 1Nephi, 2: 2Nephi, 3:Jacob, 4:Enos, 5: Omni, 6:words of Mormon, 7:Mosiah, 8:Alma, 9:Helaman, 10:3Nephi, 11:4Nephi, 12: Mormon. 13:Ether, 14:Moroni\")\n",
    "while True:\n",
    "  try:\n",
    "    name = input('choose the Name of book >>>')\n",
    "    name = int(name)\n",
    "    if 1 <= name <= 14:\n",
    "      print('success')\n",
    "      break\n",
    "    else:\n",
    "      continue\n",
    "  except:\n",
    "    continue"
   ]
  },
  {
   "cell_type": "code",
   "execution_count": 13,
   "metadata": {},
   "outputs": [],
   "source": [
    "import re"
   ]
  },
  {
   "cell_type": "code",
   "execution_count": 20,
   "metadata": {},
   "outputs": [
    {
     "name": "stdout",
     "output_type": "stream",
     "text": [
      "1: 1Nephi, 2: 2Nephi, 3:Jacob, 4:Enos, 5: Omni, 6:words of Mormon, 7:Mosiah, 8:Alma, 9:Helaman, 10:3Nephi, 11:4Nephi, 12: Mormon. 13:Ether, 14:Moroni\n",
      "success\n",
      "max is 22\n",
      "https://www.churchofjesuschrist.org/study/scriptures/bofm/1-ne/10?lang=eng\n",
      "https://www.churchofjesuschrist.org/study/scriptures/bofm/1-ne/10?lang=jpn\n"
     ]
    }
   ],
   "source": [
    "print(\"1: 1Nephi, 2: 2Nephi, 3:Jacob, 4:Enos, 5: Omni, 6:words of Mormon, 7:Mosiah, 8:Alma, 9:Helaman, 10:3Nephi, 11:4Nephi, 12: Mormon. 13:Ether, 14:Moroni\")\n",
    "while True:\n",
    "  try:\n",
    "    name = input('choose the Name of book >>>')\n",
    "    name = int(name)\n",
    "    if 1 <= name <= 14:\n",
    "      print('success')\n",
    "      break\n",
    "    else:\n",
    "      continue\n",
    "  except:\n",
    "    continue\n",
    "\n",
    "book = ''\n",
    "match name:\n",
    "  case 1:\n",
    "    max = 22\n",
    "    book = '1-ne'\n",
    "  case 2:\n",
    "    max = 33\n",
    "    book = '2-ne'\n",
    "  case 3:\n",
    "    max = 7\n",
    "    book = 'jacob'\n",
    "  case 4:\n",
    "    max = 1\n",
    "    book = 'enos'\n",
    "  case 5:\n",
    "    max = 1\n",
    "    book = 'jarom'\n",
    "  case 6:\n",
    "    max = 1\n",
    "    book = 'omni'\n",
    "  case 7:\n",
    "    max = 1\n",
    "    book = 'w-of-m'\n",
    "  case 8:\n",
    "    max = 29\n",
    "    book = 'mosiah'\n",
    "  case 9:\n",
    "    max = 63\n",
    "    book = 'alma'\n",
    "  case 10:\n",
    "    max = 16\n",
    "    book = 'hel'\n",
    "  case 11:\n",
    "    max = 30\n",
    "    book = '3-ne'\n",
    "  case 12:\n",
    "    max = 1\n",
    "    book = '4-ne'\n",
    "  case 13:\n",
    "    max = 9\n",
    "    book = 'morm'\n",
    "  case 14:\n",
    "    max = 15\n",
    "    book ='ether'\n",
    "  case 15:\n",
    "    max = 10\n",
    "    book ='moro'\n",
    "\n",
    "print( f'max is {max}')\n",
    "while True:\n",
    "  chapter = input('type chapter number you want >>>')\n",
    "  if re.match(r'\\d',chapter)and 1 <=int(chapter)<=max:\n",
    "    url_jpn = f'https://www.churchofjesuschrist.org/study/scriptures/bofm/{book}/{chapter}?lang=jpn'\n",
    "    url_eng = f'https://www.churchofjesuschrist.org/study/scriptures/bofm/{book}/{chapter}?lang=eng'\n",
    "    break\n",
    "else: print('error! type again chapter number')\n",
    "\n",
    "print(url_eng)\n",
    "print(url_jpn)"
   ]
  }
 ],
 "metadata": {
  "kernelspec": {
   "display_name": "Python 3.10.8 64-bit (microsoft store)",
   "language": "python",
   "name": "python3"
  },
  "language_info": {
   "codemirror_mode": {
    "name": "ipython",
    "version": 3
   },
   "file_extension": ".py",
   "mimetype": "text/x-python",
   "name": "python",
   "nbconvert_exporter": "python",
   "pygments_lexer": "ipython3",
   "version": "3.10.8"
  },
  "orig_nbformat": 4,
  "vscode": {
   "interpreter": {
    "hash": "2875da8e631bc3a5b5e0da54178dd35c48a2d93b6284e535187341a31397e580"
   }
  }
 },
 "nbformat": 4,
 "nbformat_minor": 2
}
