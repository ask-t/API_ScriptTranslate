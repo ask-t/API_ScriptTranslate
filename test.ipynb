{
 "cells": [
  {
   "cell_type": "code",
   "execution_count": 2,
   "metadata": {},
   "outputs": [
    {
     "name": "stdout",
     "output_type": "stream",
     "text": [
      "Requirement already satisfied: requests in /usr/local/lib/python3.10/site-packages (2.28.1)\n",
      "Requirement already satisfied: certifi>=2017.4.17 in /usr/local/lib/python3.10/site-packages (from requests) (2022.9.24)\n",
      "Requirement already satisfied: charset-normalizer<3,>=2 in /usr/local/lib/python3.10/site-packages (from requests) (2.1.1)\n",
      "Requirement already satisfied: urllib3<1.27,>=1.21.1 in /usr/local/lib/python3.10/site-packages (from requests) (1.26.12)\n",
      "Requirement already satisfied: idna<4,>=2.5 in /usr/local/lib/python3.10/site-packages (from requests) (3.4)\n",
      "\n",
      "\u001b[1m[\u001b[0m\u001b[34;49mnotice\u001b[0m\u001b[1;39;49m]\u001b[0m\u001b[39;49m A new release of pip available: \u001b[0m\u001b[31;49m22.2.2\u001b[0m\u001b[39;49m -> \u001b[0m\u001b[32;49m22.3.1\u001b[0m\n",
      "\u001b[1m[\u001b[0m\u001b[34;49mnotice\u001b[0m\u001b[1;39;49m]\u001b[0m\u001b[39;49m To update, run: \u001b[0m\u001b[32;49mpython3.10 -m pip install --upgrade pip\u001b[0m\n"
     ]
    }
   ],
   "source": [
    "! pip3 install requests"
   ]
  },
  {
   "cell_type": "code",
   "execution_count": 4,
   "metadata": {},
   "outputs": [
    {
     "name": "stdout",
     "output_type": "stream",
     "text": [
      "<Response [200]>\n"
     ]
    }
   ],
   "source": [
    "import requests\n",
    "\n",
    "url = 'https://www.churchofjesuschrist.org/?lang=eng'\n",
    "\n",
    "response = requests.get(url)\n",
    "\n",
    "print(response)"
   ]
  },
  {
   "cell_type": "code",
   "execution_count": 17,
   "metadata": {},
   "outputs": [
    {
     "name": "stdout",
     "output_type": "stream",
     "text": [
      "1: 1Nephi, 2: 2Nephi, 3:Jacob, 4:Enos, 5: Omni, 6:words of Mormon, 7:Mosiah, 8:Alma, 9:Helaman, 10:3Nephi, 11:4Nephi, 12: Mormon. 13:Ether, 14:Moroni\n",
      "success\n"
     ]
    }
   ],
   "source": [
    "print(\"1: 1Nephi, 2: 2Nephi, 3:Jacob, 4:Enos, 5: Omni, 6:words of Mormon, 7:Mosiah, 8:Alma, 9:Helaman, 10:3Nephi, 11:4Nephi, 12: Mormon. 13:Ether, 14:Moroni\")\n",
    "while True:\n",
    "  try:\n",
    "    name = input('choose the Name of book >>>')\n",
    "    name = int(name)\n",
    "    if 1 <= name <= 14:\n",
    "      print('success')\n",
    "      break\n",
    "    else:\n",
    "      continue\n",
    "  except:\n",
    "    continue"
   ]
  },
  {
   "cell_type": "code",
   "execution_count": 1,
   "metadata": {},
   "outputs": [],
   "source": [
    "import re"
   ]
  },
  {
   "cell_type": "code",
   "execution_count": 20,
   "metadata": {},
   "outputs": [
    {
     "name": "stdout",
     "output_type": "stream",
     "text": [
      "1: 1Nephi, 2: 2Nephi, 3:Jacob, 4:Enos, 5: Omni, 6:words of Mormon, 7:Mosiah, 8:Alma, 9:Helaman, 10:3Nephi, 11:4Nephi, 12: Mormon. 13:Ether, 14:Moroni\n",
      "success\n",
      "max is 22\n",
      "https://www.churchofjesuschrist.org/study/scriptures/bofm/1-ne/10?lang=eng\n",
      "https://www.churchofjesuschrist.org/study/scriptures/bofm/1-ne/10?lang=jpn\n"
     ]
    }
   ],
   "source": [
    "print(\"1: 1Nephi, 2: 2Nephi, 3:Jacob, 4:Enos, 5: Omni, 6:words of Mormon, 7:Mosiah, 8:Alma, 9:Helaman, 10:3Nephi, 11:4Nephi, 12: Mormon. 13:Ether, 14:Moroni\")\n",
    "while True:\n",
    "  try:\n",
    "    name = input('choose the Name of book >>>')\n",
    "    name = int(name)\n",
    "    if 1 <= name <= 14:\n",
    "      print('success')\n",
    "      break\n",
    "    else:\n",
    "      continue\n",
    "  except:\n",
    "    continue\n",
    "\n",
    "book = ''\n",
    "match name:\n",
    "  case 1:\n",
    "    max = 22\n",
    "    book = '1-ne'\n",
    "  case 2:\n",
    "    max = 33\n",
    "    book = '2-ne'\n",
    "  case 3:\n",
    "    max = 7\n",
    "    book = 'jacob'\n",
    "  case 4:\n",
    "    max = 1\n",
    "    book = 'enos'\n",
    "  case 5:\n",
    "    max = 1\n",
    "    book = 'jarom'\n",
    "  case 6:\n",
    "    max = 1\n",
    "    book = 'omni'\n",
    "  case 7:\n",
    "    max = 1\n",
    "    book = 'w-of-m'\n",
    "  case 8:\n",
    "    max = 29\n",
    "    book = 'mosiah'\n",
    "  case 9:\n",
    "    max = 63\n",
    "    book = 'alma'\n",
    "  case 10:\n",
    "    max = 16\n",
    "    book = 'hel'\n",
    "  case 11:\n",
    "    max = 30\n",
    "    book = '3-ne'\n",
    "  case 12:\n",
    "    max = 1\n",
    "    book = '4-ne'\n",
    "  case 13:\n",
    "    max = 9\n",
    "    book = 'morm'\n",
    "  case 14:\n",
    "    max = 15\n",
    "    book ='ether'\n",
    "  case 15:\n",
    "    max = 10\n",
    "    book ='moro'\n",
    "\n",
    "print( f'max is {max}')\n",
    "while True:\n",
    "  chapter = input('type chapter number you want >>>')\n",
    "  if re.match(r'\\d',chapter)and 1 <=int(chapter)<=max:\n",
    "    url_jpn = f'https://www.churchofjesuschrist.org/study/scriptures/bofm/{book}/{chapter}?lang=jpn'\n",
    "    url_eng = f'https://www.churchofjesuschrist.org/study/scriptures/bofm/{book}/{chapter}?lang=eng'\n",
    "    break\n",
    "else: print('error! type again chapter number')\n",
    "\n",
    "print(url_eng)\n",
    "print(url_jpn)"
   ]
  },
  {
   "cell_type": "code",
   "execution_count": 20,
   "metadata": {},
   "outputs": [
    {
     "data": {
      "text/plain": [
       "['/study/scriptures?lang=eng',\n",
       " '/study/scriptures/ot?lang=eng',\n",
       " '/study/scriptures/ot/title-page?lang=eng',\n",
       " '/study/scriptures/ot/dedication?lang=eng',\n",
       " '/study/scriptures/ot/gen?lang=eng',\n",
       " '/study/scriptures/ot/ex?lang=eng',\n",
       " '/study/scriptures/ot/ex/1?lang=eng',\n",
       " '/study/scriptures/ot/ex/2?lang=eng',\n",
       " '/study/scriptures/ot/ex/3?lang=eng',\n",
       " '/study/scriptures/ot/ex/4?lang=eng',\n",
       " '/study/scriptures/ot/ex/5?lang=eng',\n",
       " '/study/scriptures/ot/ex/6?lang=eng',\n",
       " '/study/scriptures/ot/ex/7?lang=eng',\n",
       " '/study/scriptures/ot/ex/8?lang=eng',\n",
       " '/study/scriptures/ot/ex/9?lang=eng',\n",
       " '/study/scriptures/ot/ex/10?lang=eng',\n",
       " '/study/scriptures/ot/ex/11?lang=eng',\n",
       " '/study/scriptures/ot/ex/12?lang=eng',\n",
       " '/study/scriptures/ot/ex/13?lang=eng',\n",
       " '/study/scriptures/ot/ex/14?lang=eng',\n",
       " '/study/scriptures/ot/ex/15?lang=eng',\n",
       " '/study/scriptures/ot/ex/16?lang=eng',\n",
       " '/study/scriptures/ot/ex/17?lang=eng',\n",
       " '/study/scriptures/ot/ex/18?lang=eng',\n",
       " '/study/scriptures/ot/ex/19?lang=eng',\n",
       " '/study/scriptures/ot/ex/20?lang=eng',\n",
       " '/study/scriptures/ot/ex/21?lang=eng',\n",
       " '/study/scriptures/ot/ex/22?lang=eng',\n",
       " '/study/scriptures/ot/ex/23?lang=eng',\n",
       " '/study/scriptures/ot/ex/24?lang=eng',\n",
       " '/study/scriptures/ot/ex/25?lang=eng',\n",
       " '/study/scriptures/ot/ex/26?lang=eng',\n",
       " '/study/scriptures/ot/ex/27?lang=eng',\n",
       " '/study/scriptures/ot/ex/28?lang=eng',\n",
       " '/study/scriptures/ot/ex/29?lang=eng',\n",
       " '/study/scriptures/ot/ex/30?lang=eng',\n",
       " '/study/scriptures/ot/ex/31?lang=eng',\n",
       " '/study/scriptures/ot/ex/32?lang=eng',\n",
       " '/study/scriptures/ot/ex/33?lang=eng',\n",
       " '/study/scriptures/ot/ex/34?lang=eng',\n",
       " '/study/scriptures/ot/ex/35?lang=eng',\n",
       " '/study/scriptures/ot/ex/36?lang=eng',\n",
       " '/study/scriptures/ot/ex/37?lang=eng',\n",
       " '/study/scriptures/ot/ex/38?lang=eng',\n",
       " '/study/scriptures/ot/ex/39?lang=eng',\n",
       " '/study/scriptures/ot/ex/40?lang=eng',\n",
       " '/study/scriptures/ot/lev?lang=eng',\n",
       " '/study/scriptures/ot/num?lang=eng',\n",
       " '/study/scriptures/ot/deut?lang=eng',\n",
       " '/study/scriptures/ot/josh?lang=eng',\n",
       " '/study/scriptures/ot/judg?lang=eng',\n",
       " '/study/scriptures/ot/ruth?lang=eng',\n",
       " '/study/scriptures/ot/1-sam?lang=eng',\n",
       " '/study/scriptures/ot/2-sam?lang=eng',\n",
       " '/study/scriptures/ot/1-kgs?lang=eng',\n",
       " '/study/scriptures/ot/2-kgs?lang=eng',\n",
       " '/study/scriptures/ot/1-chr?lang=eng',\n",
       " '/study/scriptures/ot/2-chr?lang=eng',\n",
       " '/study/scriptures/ot/ezra?lang=eng',\n",
       " '/study/scriptures/ot/neh?lang=eng',\n",
       " '/study/scriptures/ot/esth?lang=eng',\n",
       " '/study/scriptures/ot/job?lang=eng',\n",
       " '/study/scriptures/ot/ps?lang=eng',\n",
       " '/study/scriptures/ot/prov?lang=eng',\n",
       " '/study/scriptures/ot/eccl?lang=eng',\n",
       " '/study/scriptures/ot/song?lang=eng',\n",
       " '/study/scriptures/ot/isa?lang=eng',\n",
       " '/study/scriptures/ot/jer?lang=eng',\n",
       " '/study/scriptures/ot/lam?lang=eng',\n",
       " '/study/scriptures/ot/ezek?lang=eng',\n",
       " '/study/scriptures/ot/dan?lang=eng',\n",
       " '/study/scriptures/ot/hosea?lang=eng',\n",
       " '/study/scriptures/ot/joel?lang=eng',\n",
       " '/study/scriptures/ot/amos?lang=eng',\n",
       " '/study/scriptures/ot/obad/1?lang=eng',\n",
       " '/study/scriptures/ot/jonah?lang=eng',\n",
       " '/study/scriptures/ot/micah?lang=eng',\n",
       " '/study/scriptures/ot/nahum?lang=eng',\n",
       " '/study/scriptures/ot/hab?lang=eng',\n",
       " '/study/scriptures/ot/zeph?lang=eng',\n",
       " '/study/scriptures/ot/hag?lang=eng',\n",
       " '/study/scriptures/ot/zech?lang=eng',\n",
       " '/study/scriptures/ot/mal?lang=eng',\n",
       " '/study/scriptures/ot/gen/50',\n",
       " '/study/scriptures/ot/ex/1',\n",
       " '/study/scriptures/ot/ex/1?lang=eng',\n",
       " '/study/scriptures/ot/ex/2?lang=eng',\n",
       " '/study/scriptures/ot/ex/3?lang=eng',\n",
       " '/study/scriptures/ot/ex/4?lang=eng',\n",
       " '/study/scriptures/ot/ex/5?lang=eng',\n",
       " '/study/scriptures/ot/ex/6?lang=eng',\n",
       " '/study/scriptures/ot/ex/7?lang=eng',\n",
       " '/study/scriptures/ot/ex/8?lang=eng',\n",
       " '/study/scriptures/ot/ex/9?lang=eng',\n",
       " '/study/scriptures/ot/ex/10?lang=eng',\n",
       " '/study/scriptures/ot/ex/11?lang=eng',\n",
       " '/study/scriptures/ot/ex/12?lang=eng',\n",
       " '/study/scriptures/ot/ex/13?lang=eng',\n",
       " '/study/scriptures/ot/ex/14?lang=eng',\n",
       " '/study/scriptures/ot/ex/15?lang=eng',\n",
       " '/study/scriptures/ot/ex/16?lang=eng',\n",
       " '/study/scriptures/ot/ex/17?lang=eng',\n",
       " '/study/scriptures/ot/ex/18?lang=eng',\n",
       " '/study/scriptures/ot/ex/19?lang=eng',\n",
       " '/study/scriptures/ot/ex/20?lang=eng',\n",
       " '/study/scriptures/ot/ex/21?lang=eng',\n",
       " '/study/scriptures/ot/ex/22?lang=eng',\n",
       " '/study/scriptures/ot/ex/23?lang=eng',\n",
       " '/study/scriptures/ot/ex/24?lang=eng',\n",
       " '/study/scriptures/ot/ex/25?lang=eng',\n",
       " '/study/scriptures/ot/ex/26?lang=eng',\n",
       " '/study/scriptures/ot/ex/27?lang=eng',\n",
       " '/study/scriptures/ot/ex/28?lang=eng',\n",
       " '/study/scriptures/ot/ex/29?lang=eng',\n",
       " '/study/scriptures/ot/ex/30?lang=eng',\n",
       " '/study/scriptures/ot/ex/31?lang=eng',\n",
       " '/study/scriptures/ot/ex/32?lang=eng',\n",
       " '/study/scriptures/ot/ex/33?lang=eng',\n",
       " '/study/scriptures/ot/ex/34?lang=eng',\n",
       " '/study/scriptures/ot/ex/35?lang=eng',\n",
       " '/study/scriptures/ot/ex/36?lang=eng',\n",
       " '/study/scriptures/ot/ex/37?lang=eng',\n",
       " '/study/scriptures/ot/ex/38?lang=eng',\n",
       " '/study/scriptures/ot/ex/39?lang=eng',\n",
       " '/study/scriptures/ot/ex/40?lang=eng',\n",
       " '/study/scriptures/ot/gen/50?lang=eng',\n",
       " '/study/scriptures/ot/ex/1?lang=eng']"
      ]
     },
     "execution_count": 20,
     "metadata": {},
     "output_type": "execute_result"
    }
   ],
   "source": [
    "from bs4 import BeautifulSoup\n",
    "import requests\n",
    "\n",
    "url = 'https://www.churchofjesuschrist.org/study/scriptures/ot/ex?lang=eng'\n",
    "response = requests.get(url)\n",
    "response.encoding = response.apparent_encoding\n",
    "html = response.text\n",
    "parse_html = BeautifulSoup(html,'html.parser')\n",
    "html_a = parse_html.find_all('a')\n",
    "La = []\n",
    "for i in html_a:\n",
    "    La.append(i.attrs['href'])\n",
    "La"
   ]
  },
  {
   "cell_type": "code",
   "execution_count": 21,
   "metadata": {},
   "outputs": [
    {
     "data": {
      "text/plain": [
       "'/study/scriptures/ot/ex/40?lang=eng'"
      ]
     },
     "execution_count": 21,
     "metadata": {},
     "output_type": "execute_result"
    }
   ],
   "source": [
    "La[-3]"
   ]
  },
  {
   "cell_type": "code",
   "execution_count": 1,
   "metadata": {},
   "outputs": [
    {
     "name": "stdout",
     "output_type": "stream",
     "text": [
      "['1', '2', '3']\n"
     ]
    }
   ],
   "source": [
    "section = list(iter(input, 'over'))\n",
    "print(section)"
   ]
  },
  {
   "cell_type": "code",
   "execution_count": 1,
   "metadata": {},
   "outputs": [
    {
     "name": "stdout",
     "output_type": "stream",
     "text": [
      "['p8']\n"
     ]
    }
   ],
   "source": [
    "f = 8\n",
    "t = 8\n",
    "\n",
    "l = []\n",
    "for i in range(f,t+1):\n",
    "    l.append('p'+str(i))\n",
    "print(l)\n"
   ]
  },
  {
   "cell_type": "code",
   "execution_count": 5,
   "metadata": {},
   "outputs": [
    {
     "name": "stdout",
     "output_type": "stream",
     "text": [
      "['p1']\n",
      "1\n"
     ]
    }
   ],
   "source": [
    "f = 1\n",
    "t = 1\n",
    "\n",
    "section = [str(i) for i in range(int(f),int(t)+1)]\n",
    "list_id = ['p'+ i for i in section]\n",
    "\n",
    "print(list_id)\n",
    "print(len(list_id))"
   ]
  }
 ],
 "metadata": {
  "kernelspec": {
   "display_name": "Python 3.10.6 64-bit",
   "language": "python",
   "name": "python3"
  },
  "language_info": {
   "codemirror_mode": {
    "name": "ipython",
    "version": 3
   },
   "file_extension": ".py",
   "mimetype": "text/x-python",
   "name": "python",
   "nbconvert_exporter": "python",
   "pygments_lexer": "ipython3",
   "version": "3.10.6"
  },
  "orig_nbformat": 4,
  "vscode": {
   "interpreter": {
    "hash": "369f2c481f4da34e4445cda3fffd2e751bd1c4d706f27375911949ba6bb62e1c"
   }
  }
 },
 "nbformat": 4,
 "nbformat_minor": 2
}
